{
 "cells": [
  {
   "cell_type": "code",
   "execution_count": 1,
   "id": "6452ec02",
   "metadata": {},
   "outputs": [],
   "source": [
    "import os\n",
    "import warnings\n",
    "import numpy as np\n",
    "import pandas as pd\n",
    "import matplotlib.pyplot as plt\n",
    "import seaborn as sns\n",
    "import librosa\n",
    "import joblib\n",
    "from sklearn.pipeline import Pipeline\n",
    "from sklearn.feature_selection import SelectFromModel\n",
    "from sklearn.base import clone\n",
    "from sklearn.model_selection import train_test_split, GridSearchCV\n",
    "from sklearn.linear_model import LogisticRegression\n",
    "from sklearn.neighbors import KNeighborsClassifier\n",
    "from sklearn.svm import SVC\n",
    "from sklearn.ensemble import RandomForestClassifier\n",
    "from sklearn.naive_bayes import GaussianNB\n",
    "from sklearn.neural_network import MLPClassifier\n",
    "from sklearn.dummy import DummyClassifier\n",
    "from sklearn.preprocessing import StandardScaler, PowerTransformer\n",
    "from sklearn.metrics import accuracy_score, f1_score, confusion_matrix, ConfusionMatrixDisplay\n",
    "\n",
    "warnings.simplefilter(\"ignore\")\n",
    "\n",
    "plt.rcParams['figure.figsize'] = (12, 5)"
   ]
  },
  {
   "cell_type": "markdown",
   "id": "75986b4e",
   "metadata": {},
   "source": [
    "### Build Dataset\n",
    "- Feature extraction with Librosa for model inputs (X_train/X_test)\n",
    "- Labelling tracks with genre and echonest tags (Y_train/Y_test)"
   ]
  },
  {
   "cell_type": "code",
   "execution_count": 2,
   "id": "ba222a19-8278-440b-8ec7-aff9a2c143d9",
   "metadata": {},
   "outputs": [
    {
     "name": "stdout",
     "output_type": "stream",
     "text": [
      "Dataset size: 1\n"
     ]
    }
   ],
   "source": [
    "## UNCOMMENT THE FOLLOWING CODE TO BUILD DATASET FROM SCRATCH ##\n",
    "\n",
    "feats_mean_mfcc = []\n",
    "feats_std_mfcc = []\n",
    "feats_mean_chroma = []\n",
    "feats_std_chroma = []\n",
    "feats_tempo = []\n",
    "feats_mean_contrast = []\n",
    "feats_std_contrast = []\n",
    "feats_mean_mel = []\n",
    "feats_std_mel = []\n",
    "feats_mean_tonnetz = []\n",
    "feats_std_tonnetz = []\n",
    "feats_mean_rms = []\n",
    "feats_std_rms = []\n",
    "feats_mean_zcr = []\n",
    "feats_std_zcr = []\n",
    "\n",
    "fname = 'happy_pharrel.mp3'\n",
    "\n",
    "# Load the audio file and extract the features\n",
    "audio, srate = librosa.load(fname, res_type='kaiser_fast')\n",
    "mfcc_matrix = librosa.feature.mfcc(y=audio, sr=srate, n_mfcc=40)\n",
    "chroma_cqt = librosa.feature.chroma_cqt(y=audio, sr=srate, n_chroma=12)\n",
    "tempo, _ = librosa.beat.beat_track(y=audio, sr=srate)\n",
    "contrast = librosa.feature.spectral_contrast(y=audio, sr=srate, n_bands=6)\n",
    "mel = librosa.feature.melspectrogram(y=audio, sr=srate, n_mels=64)\n",
    "tonnetz = librosa.feature.tonnetz(y=audio, sr=srate)\n",
    "rms = librosa.feature.rms(y=audio)\n",
    "zcr = librosa.feature.zero_crossing_rate(y=audio)\n",
    "\n",
    "mean_mfcc = np.mean(mfcc_matrix, axis=1)\n",
    "std_mfcc = np.std(mfcc_matrix, axis=1)\n",
    "mean_chroma = np.mean(chroma_cqt, axis=1)\n",
    "std_chroma = np.std(chroma_cqt, axis=1)\n",
    "mean_contrast = np.mean(contrast, axis=1)\n",
    "std_contrast = np.std(contrast, axis=1)\n",
    "mean_mel = np.mean(mel, axis=1)\n",
    "std_mel = np.std(mel, axis=1)\n",
    "mean_tonnetz = np.mean(tonnetz, axis=1)\n",
    "std_tonnetz = np.std(tonnetz, axis=1)\n",
    "mean_rms = np.mean(rms, axis=1)\n",
    "std_rms = np.std(rms, axis=1)\n",
    "mean_zcr = np.mean(zcr, axis=1)\n",
    "std_zcr = np.std(zcr, axis=1)\n",
    "\n",
    "feats_mean_mfcc.append(mean_mfcc)\n",
    "feats_std_mfcc.append(std_mfcc)\n",
    "feats_mean_chroma.append(mean_chroma)\n",
    "feats_std_chroma.append(std_chroma)\n",
    "feats_tempo.append(tempo)\n",
    "feats_mean_contrast.append(mean_contrast)\n",
    "feats_std_contrast.append(std_contrast)\n",
    "feats_mean_mel.append(mean_mel)\n",
    "feats_std_mel.append(std_mel)\n",
    "feats_mean_tonnetz.append(mean_tonnetz)\n",
    "feats_std_tonnetz.append(std_tonnetz)\n",
    "feats_mean_rms.append(mean_rms)\n",
    "feats_std_rms.append(std_rms)\n",
    "feats_mean_zcr.append(mean_zcr)\n",
    "feats_std_zcr.append(std_zcr)\n",
    "\n",
    "# save to disk to avoid re-computing\n",
    "np.save('features/feats_mean_mfcc.npy', feats_mean_mfcc)\n",
    "np.save('features/feats_std_mfcc.npy', feats_std_mfcc)\n",
    "np.save('features/feats_mean_chroma.npy', feats_mean_chroma)\n",
    "np.save('features/feats_std_chroma.npy', feats_std_chroma)\n",
    "np.save('features/feats_tempo.npy', feats_tempo)\n",
    "np.save('features/feats_mean_contrast.npy', feats_mean_contrast)\n",
    "np.save('features/feats_std_contrast.npy', feats_std_contrast)\n",
    "np.save('features/feats_mean_mel.npy', feats_mean_mel)\n",
    "np.save('features/feats_std_mel.npy', feats_std_mel)\n",
    "np.save('features/feats_mean_tonnetz.npy', feats_mean_tonnetz)\n",
    "np.save('features/feats_std_tonnetz.npy', feats_std_tonnetz)\n",
    "np.save('features/feats_mean_rms.npy', feats_mean_rms)\n",
    "np.save('features/feats_std_rms.npy', feats_std_rms)\n",
    "np.save('features/feats_mean_zcr.npy', feats_mean_zcr)\n",
    "np.save('features/feats_std_zcr.npy', feats_std_zcr)\n",
    "\n",
    "print(f\"Dataset size: {len(feats_mean_mfcc)}\")"
   ]
  },
  {
   "cell_type": "code",
   "execution_count": 3,
   "id": "7db3debf",
   "metadata": {},
   "outputs": [
    {
     "name": "stdout",
     "output_type": "stream",
     "text": [
      "X shape: (1, 263)\n"
     ]
    }
   ],
   "source": [
    "## LOAD DATASET FROM DISK IF ALREADY COMPUTED ##\n",
    "\n",
    "feats_mean_mfcc = np.load('features/feats_mean_mfcc.npy')\n",
    "feats_std_mfcc = np.load('features/feats_std_mfcc.npy')\n",
    "feats_mean_chroma = np.load('features/feats_mean_chroma.npy')\n",
    "feats_std_chroma = np.load('features/feats_std_chroma.npy')\n",
    "feats_tempo = np.load('features/feats_tempo.npy').reshape(-1, 1)\n",
    "feats_mean_contrast = np.load('features/feats_mean_contrast.npy')\n",
    "feats_std_contrast = np.load('features/feats_std_contrast.npy')\n",
    "feats_mean_mel = np.load('features/feats_mean_mel.npy')\n",
    "feats_std_mel = np.load('features/feats_std_mel.npy')\n",
    "feats_mean_tonnetz = np.load('features/feats_mean_tonnetz.npy')\n",
    "feats_std_tonnetz = np.load('features/feats_std_tonnetz.npy')\n",
    "feats_mean_rms = np.load('features/feats_mean_rms.npy')\n",
    "feats_std_rms = np.load('features/feats_std_rms.npy')\n",
    "feats_mean_zcr = np.load('features/feats_mean_zcr.npy')\n",
    "feats_std_zcr = np.load('features/feats_std_zcr.npy')\n",
    "\n",
    "X = np.hstack([feats_mean_mfcc, feats_std_mfcc, feats_mean_chroma, feats_std_chroma, feats_tempo,\n",
    "               feats_mean_contrast, feats_std_contrast, feats_mean_mel, feats_std_mel,\n",
    "               feats_mean_tonnetz, feats_std_tonnetz, feats_mean_rms, feats_std_rms,\n",
    "               feats_mean_zcr, feats_std_zcr])\n",
    "print(\"X shape:\", X.shape)"
   ]
  },
  {
   "cell_type": "code",
   "execution_count": 6,
   "id": "26302750",
   "metadata": {},
   "outputs": [],
   "source": [
    "## LOAD TRAINED MODEL FROM DISK ##\n",
    "\n",
    "best_rf_model = joblib.load('models/best_rf_model.joblib')\n",
    "best_mlp_model = joblib.load('models/best_mlp_model.joblib')"
   ]
  },
  {
   "cell_type": "code",
   "execution_count": 9,
   "id": "da6b5617",
   "metadata": {},
   "outputs": [
    {
     "data": {
      "text/html": [
       "<div>\n",
       "<style scoped>\n",
       "    .dataframe tbody tr th:only-of-type {\n",
       "        vertical-align: middle;\n",
       "    }\n",
       "\n",
       "    .dataframe tbody tr th {\n",
       "        vertical-align: top;\n",
       "    }\n",
       "\n",
       "    .dataframe thead th {\n",
       "        text-align: right;\n",
       "    }\n",
       "</style>\n",
       "<table border=\"1\" class=\"dataframe\">\n",
       "  <thead>\n",
       "    <tr style=\"text-align: right;\">\n",
       "      <th></th>\n",
       "      <th>acoustic</th>\n",
       "      <th>danceable</th>\n",
       "      <th>energetic</th>\n",
       "      <th>instrumental</th>\n",
       "      <th>lively</th>\n",
       "      <th>speechy</th>\n",
       "      <th>happy</th>\n",
       "    </tr>\n",
       "  </thead>\n",
       "  <tbody>\n",
       "    <tr>\n",
       "      <th>0</th>\n",
       "      <td>0</td>\n",
       "      <td>1</td>\n",
       "      <td>0</td>\n",
       "      <td>0</td>\n",
       "      <td>0</td>\n",
       "      <td>1</td>\n",
       "      <td>1</td>\n",
       "    </tr>\n",
       "  </tbody>\n",
       "</table>\n",
       "</div>"
      ],
      "text/plain": [
       "   acoustic  danceable  energetic  instrumental  lively  speechy  happy\n",
       "0         0          1          0             0       0        1      1"
      ]
     },
     "execution_count": 9,
     "metadata": {},
     "output_type": "execute_result"
    }
   ],
   "source": [
    "labels = [\"acoustic\", \"danceable\", \"energetic\", \"instrumental\", \"lively\", \"speechy\", \"happy\"]\n",
    "\n",
    "# Predict on X\n",
    "y_pred_rf = best_rf_model.predict(X)\n",
    "\n",
    "# Match the predictions with the labels\n",
    "y_pred_rf = pd.DataFrame(y_pred_rf, columns=labels)\n",
    "y_pred_rf"
   ]
  }
 ],
 "metadata": {
  "kernelspec": {
   "display_name": "Python 3 (ipykernel)",
   "language": "python",
   "name": "python3"
  },
  "language_info": {
   "codemirror_mode": {
    "name": "ipython",
    "version": 3
   },
   "file_extension": ".py",
   "mimetype": "text/x-python",
   "name": "python",
   "nbconvert_exporter": "python",
   "pygments_lexer": "ipython3",
   "version": "3.11.4"
  }
 },
 "nbformat": 4,
 "nbformat_minor": 5
}
